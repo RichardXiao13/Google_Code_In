{
  "nbformat": 4,
  "nbformat_minor": 0,
  "metadata": {
    "colab": {
      "name": "Cars.ipynb",
      "provenance": [],
      "include_colab_link": true
    },
    "kernelspec": {
      "name": "python3",
      "display_name": "Python 3"
    },
    "accelerator": "GPU"
  },
  "cells": [
    {
      "cell_type": "markdown",
      "metadata": {
        "id": "view-in-github",
        "colab_type": "text"
      },
      "source": [
        "<a href=\"https://colab.research.google.com/github/RichardXiao13/Google_Code_In/blob/master/Cars.ipynb\" target=\"_parent\"><img src=\"https://colab.research.google.com/assets/colab-badge.svg\" alt=\"Open In Colab\"/></a>"
      ]
    },
    {
      "cell_type": "markdown",
      "metadata": {
        "id": "Ze8u6Tp1vR3U",
        "colab_type": "text"
      },
      "source": [
        "# **Acceptability of Cars**\n",
        "Have you ever wondered if a car was acceptable or not? It could very well be that you are looking to buy a new car! Thankfully, this process is made easier due to machine learning. In this Colab, we will try to create a model that will help us decide whether or not to buy a car depending on some of its features."
      ]
    },
    {
      "cell_type": "markdown",
      "metadata": {
        "id": "23drUn2SxClC",
        "colab_type": "text"
      },
      "source": [
        "# **Dataset**\n",
        "The dataset we will be using is from the UCI Machine Learning Repository.\n",
        "\n",
        "[Car Evaluation](https://archive.ics.uci.edu/ml/datasets/Car+Evaluation)"
      ]
    },
    {
      "cell_type": "markdown",
      "metadata": {
        "id": "UCDew3Q3xhiu",
        "colab_type": "text"
      },
      "source": [
        "# **Setup**\n",
        "Before we begin, we must import tensorflow as well as pandas to extract and manipulate the data in our dataset."
      ]
    },
    {
      "cell_type": "code",
      "metadata": {
        "id": "A6DZl2a5XWPv",
        "colab_type": "code",
        "colab": {}
      },
      "source": [
        "try:\n",
        "  %tensorflow_version 2.x\n",
        "except:\n",
        "  Exception\n",
        "import tensorflow as tf"
      ],
      "execution_count": 0,
      "outputs": []
    },
    {
      "cell_type": "code",
      "metadata": {
        "id": "pVT9gvw2YJU9",
        "colab_type": "code",
        "colab": {}
      },
      "source": [
        "import pandas as pd"
      ],
      "execution_count": 0,
      "outputs": []
    },
    {
      "cell_type": "markdown",
      "metadata": {
        "id": "zf4NggYjx0VQ",
        "colab_type": "text"
      },
      "source": [
        "# **Load Data**\n",
        "Okay, now we can read the .data file from the repository and create our own headers following the attributes listed in the .c45-names file. Then we can inspect the dataframe to see what we are dealing with."
      ]
    },
    {
      "cell_type": "code",
      "metadata": {
        "id": "yTR7xJs3YMZN",
        "colab_type": "code",
        "colab": {}
      },
      "source": [
        "car_data = pd.read_csv(\"/content/car.data\", header=None, names=[\"buying\", \"maintenance\", \"doors\", \"persons\", \"lug_boot\", \"safety\", \"class\"])"
      ],
      "execution_count": 0,
      "outputs": []
    },
    {
      "cell_type": "code",
      "metadata": {
        "id": "r5sttso4ZunF",
        "colab_type": "code",
        "colab": {
          "base_uri": "https://localhost:8080/",
          "height": 255
        },
        "outputId": "c1413bbe-8268-4f88-ed11-e350c1a894c4"
      },
      "source": [
        "print(car_data)"
      ],
      "execution_count": 6,
      "outputs": [
        {
          "output_type": "stream",
          "text": [
            "     buying maintenance  doors persons lug_boot safety  class\n",
            "0     vhigh       vhigh      2       2    small    low  unacc\n",
            "1     vhigh       vhigh      2       2    small    med  unacc\n",
            "2     vhigh       vhigh      2       2    small   high  unacc\n",
            "3     vhigh       vhigh      2       2      med    low  unacc\n",
            "4     vhigh       vhigh      2       2      med    med  unacc\n",
            "...     ...         ...    ...     ...      ...    ...    ...\n",
            "1723    low         low  5more    more      med    med   good\n",
            "1724    low         low  5more    more      med   high  vgood\n",
            "1725    low         low  5more    more      big    low  unacc\n",
            "1726    low         low  5more    more      big    med   good\n",
            "1727    low         low  5more    more      big   high  vgood\n",
            "\n",
            "[1728 rows x 7 columns]\n"
          ],
          "name": "stdout"
        }
      ]
    },
    {
      "cell_type": "markdown",
      "metadata": {
        "id": "qzbPnpZiyIU7",
        "colab_type": "text"
      },
      "source": [
        "After inspecting, we can see that all the columns are in the string datatype. It looks like we will need to convert all of the columns into features that our model can understand. Let's first open the .c45-names file to see what values the columns contain."
      ]
    },
    {
      "cell_type": "code",
      "metadata": {
        "id": "PL055sQubYvP",
        "colab_type": "code",
        "colab": {
          "base_uri": "https://localhost:8080/",
          "height": 54
        },
        "outputId": "c404d238-294e-4ebc-f21d-db9c16161103"
      },
      "source": [
        "attributes = open(\"/content/car.c45-names\", \"r\")\n",
        "print(attributes.readlines())"
      ],
      "execution_count": 13,
      "outputs": [
        {
          "output_type": "stream",
          "text": [
            "['| names file (C4.5 format) for car evaluation domain\\n', '\\n', '| class values\\n', '\\n', 'unacc, acc, good, vgood\\n', '\\n', '| attributes\\n', '\\n', 'buying:   vhigh, high, med, low.\\n', 'maint:    vhigh, high, med, low.\\n', 'doors:    2, 3, 4, 5more.\\n', 'persons:  2, 4, more.\\n', 'lug_boot: small, med, big.\\n', 'safety:   low, med, high.\\n']\n"
          ],
          "name": "stdout"
        }
      ]
    },
    {
      "cell_type": "markdown",
      "metadata": {
        "id": "YzUpWx_vymR7",
        "colab_type": "text"
      },
      "source": [
        "Now we can create lists with the labels that the attributes define. We can also import numpy to extract the data as numpy arrays."
      ]
    },
    {
      "cell_type": "code",
      "metadata": {
        "id": "fnLKO3Ceq4-6",
        "colab_type": "code",
        "colab": {}
      },
      "source": [
        "import numpy as np"
      ],
      "execution_count": 0,
      "outputs": []
    },
    {
      "cell_type": "code",
      "metadata": {
        "id": "C-dxbfDicRH5",
        "colab_type": "code",
        "colab": {}
      },
      "source": [
        "buy_attr = [\"vhigh\", \"high\", \"med\", \"low\"]\n",
        "lug_attr = [\"small\", \"med\", \"big\"]\n",
        "doors_attr = [\"2\", \"3\", \"4\", \"5more\"]\n",
        "ppl_attr = [\"2\", \"4\", \"more\"]\n",
        "safety_attr = [\"low\", \"med\", \"high\"]\n",
        "class_lbls = [\"unacc\", \"acc\", \"good\", \"vgood\"]"
      ],
      "execution_count": 0,
      "outputs": []
    },
    {
      "cell_type": "markdown",
      "metadata": {
        "id": "E51RNrTXy0M0",
        "colab_type": "text"
      },
      "source": [
        "Here, we can define a function that takes in a column of data along with its specified attributes so that we can encode the attributes as integers. We also have to return a tensor so that our model can use the data. After defining the function, we can call it on every column along with its attribute."
      ]
    },
    {
      "cell_type": "code",
      "metadata": {
        "id": "oWfo_n3YaNOB",
        "colab_type": "code",
        "colab": {}
      },
      "source": [
        "def convert_to_features(data_col, labels):\n",
        "  data = data_col.copy()\n",
        "  for i, info in enumerate(data):\n",
        "    data[i] = labels.index(info)\n",
        "  return tf.convert_to_tensor(data.values, np.float32)"
      ],
      "execution_count": 0,
      "outputs": []
    },
    {
      "cell_type": "code",
      "metadata": {
        "id": "QyOoAprbbIia",
        "colab_type": "code",
        "colab": {}
      },
      "source": [
        "buy_features = convert_to_features(car_data[\"buying\"], buy_attr)\n",
        "maint_features = convert_to_features(car_data[\"maintenance\"], buy_attr)\n",
        "lug_features = convert_to_features(car_data[\"lug_boot\"], lug_attr)\n",
        "safety_features = convert_to_features(car_data[\"safety\"], safety_attr)\n",
        "labels = convert_to_features(car_data[\"class\"], class_lbls)\n",
        "ppl_features = convert_to_features(car_data[\"persons\"], ppl_attr)\n",
        "doors_features = convert_to_features(car_data[\"doors\"], doors_attr)"
      ],
      "execution_count": 0,
      "outputs": []
    },
    {
      "cell_type": "code",
      "metadata": {
        "id": "t--uyWJvfu0w",
        "colab_type": "code",
        "colab": {}
      },
      "source": [
        "import tensorflow.keras.layers as layers"
      ],
      "execution_count": 0,
      "outputs": []
    },
    {
      "cell_type": "markdown",
      "metadata": {
        "id": "5QWLjH_3zSk3",
        "colab_type": "text"
      },
      "source": [
        "# **Build the Model**\n",
        "Now, we can begin building the model. Since there are six feature columns, we have to create six input layers which will take in a single integer. Then we concatenate the input layers together to create one layer for our output layer to take in. Lastly, we will use a softmax activation for our last dense layer and 4 units to output the probabilities of each class for our input. Afterwards, we can compile the model with the accuracy metrics so we can evaluate it later. Finally, we can fit the model on our training data."
      ]
    },
    {
      "cell_type": "code",
      "metadata": {
        "id": "w7mpmh3af_8V",
        "colab_type": "code",
        "colab": {}
      },
      "source": [
        "buy_input = layers.Input(shape=(1,))\n",
        "maint_input = layers.Input(shape=(1,))\n",
        "doors_input = layers.Input(shape=(1,))\n",
        "ppl_input = layers.Input(shape=(1,))\n",
        "lug_input = layers.Input(shape=(1,))\n",
        "safety_input = layers.Input(shape=(1,))\n",
        "input_features = layers.concatenate([buy_input, maint_input, doors_input, ppl_input, lug_input, safety_input])\n",
        "output = layers.Dense(128, activation=\"relu\")(input_features)\n",
        "output = layers.Dense(256, activation=\"relu\")(output)\n",
        "output = layers.Dense(64, activation=\"relu\")(output)\n",
        "output = layers.Dense(4, activation=\"softmax\")(output)\n",
        "model = tf.keras.Model(inputs=[buy_input, maint_input, doors_input, ppl_input, lug_input, safety_input], outputs=output)"
      ],
      "execution_count": 0,
      "outputs": []
    },
    {
      "cell_type": "code",
      "metadata": {
        "id": "pFG7bvrymcrk",
        "colab_type": "code",
        "colab": {}
      },
      "source": [
        "model.compile(optimizer=\"adam\", loss=\"sparse_categorical_crossentropy\", metrics=[\"accuracy\"])"
      ],
      "execution_count": 0,
      "outputs": []
    },
    {
      "cell_type": "code",
      "metadata": {
        "id": "yh92qQo3oIZo",
        "colab_type": "code",
        "colab": {
          "base_uri": "https://localhost:8080/",
          "height": 714
        },
        "outputId": "33fde40f-3b8d-4895-ff0e-8525b8969807"
      },
      "source": [
        "history = model.fit([buy_features, maint_features, doors_features, ppl_features, lug_features, safety_features], labels, epochs=20, batch_size=128)"
      ],
      "execution_count": 121,
      "outputs": [
        {
          "output_type": "stream",
          "text": [
            "Train on 1728 samples\n",
            "Epoch 1/20\n",
            "1728/1728 [==============================] - 0s 167us/sample - loss: 1.0034 - accuracy: 0.6707\n",
            "Epoch 2/20\n",
            "1728/1728 [==============================] - 0s 24us/sample - loss: 0.7496 - accuracy: 0.7286\n",
            "Epoch 3/20\n",
            "1728/1728 [==============================] - 0s 23us/sample - loss: 0.5809 - accuracy: 0.7859\n",
            "Epoch 4/20\n",
            "1728/1728 [==============================] - 0s 23us/sample - loss: 0.4444 - accuracy: 0.8293\n",
            "Epoch 5/20\n",
            "1728/1728 [==============================] - 0s 22us/sample - loss: 0.3491 - accuracy: 0.8646\n",
            "Epoch 6/20\n",
            "1728/1728 [==============================] - 0s 25us/sample - loss: 0.2922 - accuracy: 0.8883\n",
            "Epoch 7/20\n",
            "1728/1728 [==============================] - 0s 23us/sample - loss: 0.2514 - accuracy: 0.9028\n",
            "Epoch 8/20\n",
            "1728/1728 [==============================] - 0s 25us/sample - loss: 0.2267 - accuracy: 0.9028\n",
            "Epoch 9/20\n",
            "1728/1728 [==============================] - 0s 24us/sample - loss: 0.1922 - accuracy: 0.9196\n",
            "Epoch 10/20\n",
            "1728/1728 [==============================] - 0s 23us/sample - loss: 0.1718 - accuracy: 0.9346\n",
            "Epoch 11/20\n",
            "1728/1728 [==============================] - 0s 25us/sample - loss: 0.1542 - accuracy: 0.9462\n",
            "Epoch 12/20\n",
            "1728/1728 [==============================] - 0s 26us/sample - loss: 0.1336 - accuracy: 0.9566\n",
            "Epoch 13/20\n",
            "1728/1728 [==============================] - 0s 24us/sample - loss: 0.1244 - accuracy: 0.9549\n",
            "Epoch 14/20\n",
            "1728/1728 [==============================] - 0s 27us/sample - loss: 0.1149 - accuracy: 0.9630\n",
            "Epoch 15/20\n",
            "1728/1728 [==============================] - 0s 23us/sample - loss: 0.1059 - accuracy: 0.9624\n",
            "Epoch 16/20\n",
            "1728/1728 [==============================] - 0s 23us/sample - loss: 0.0995 - accuracy: 0.9676\n",
            "Epoch 17/20\n",
            "1728/1728 [==============================] - 0s 24us/sample - loss: 0.0955 - accuracy: 0.9664\n",
            "Epoch 18/20\n",
            "1728/1728 [==============================] - 0s 24us/sample - loss: 0.1003 - accuracy: 0.9630\n",
            "Epoch 19/20\n",
            "1728/1728 [==============================] - 0s 30us/sample - loss: 0.0959 - accuracy: 0.9653\n",
            "Epoch 20/20\n",
            "1728/1728 [==============================] - 0s 24us/sample - loss: 0.0860 - accuracy: 0.9728\n"
          ],
          "name": "stdout"
        }
      ]
    },
    {
      "cell_type": "markdown",
      "metadata": {
        "id": "L7rIcm-f0AM1",
        "colab_type": "text"
      },
      "source": [
        "# **Plot the Metrics**\n",
        "We can see how well our model performed by plotting the accuracy and loss metrics we saved in the history of our model. From what we can see, the model seemed to have performed pretty well on the dataset by reaching and accuracy of over 95% near the end of training."
      ]
    },
    {
      "cell_type": "code",
      "metadata": {
        "id": "a8hSq0Gzvkye",
        "colab_type": "code",
        "colab": {}
      },
      "source": [
        "import matplotlib.pyplot as plt"
      ],
      "execution_count": 0,
      "outputs": []
    },
    {
      "cell_type": "code",
      "metadata": {
        "id": "dl3nyqUjvnHe",
        "colab_type": "code",
        "colab": {
          "base_uri": "https://localhost:8080/",
          "height": 747
        },
        "outputId": "17d364d4-23f8-4249-8b7b-7d0b0c1bd31c"
      },
      "source": [
        "epochs = range(20)\n",
        "acc = history.history[\"accuracy\"]\n",
        "loss = history.history[\"loss\"]\n",
        "\n",
        "plt.figure(figsize=(16, 12))\n",
        "plt.subplot(1, 2, 1)\n",
        "plt.plot(epochs, acc)\n",
        "plt.title(\"Model Accuracy\")\n",
        "plt.xlabel(\"Epochs\")\n",
        "plt.ylabel(\"Accuracy\")\n",
        "plt.subplot(1, 2, 2)\n",
        "plt.plot(epochs, loss)\n",
        "plt.title(\"Model Loss\")\n",
        "plt.xlabel(\"Epochs\")\n",
        "plt.ylabel(\"Loss\")"
      ],
      "execution_count": 156,
      "outputs": [
        {
          "output_type": "execute_result",
          "data": {
            "text/plain": [
              "Text(0, 0.5, 'Loss')"
            ]
          },
          "metadata": {
            "tags": []
          },
          "execution_count": 156
        },
        {
          "output_type": "display_data",
          "data": {
            "image/png": "[encoded data removed]",
            "text/plain": [
              "<Figure size 1152x864 with 2 Axes>"
            ]
          },
          "metadata": {
            "tags": []
          }
        }
      ]
    },
    {
      "cell_type": "markdown",
      "metadata": {
        "id": "6TzDCVuv0PMC",
        "colab_type": "text"
      },
      "source": [
        "# **Predict**\n",
        "Now that we have fitted the model, we are able to make some predictions with it. Here, we will create a test input which has high cost, high maintenance, 2 doors, 2 seats, medium lug boots, and medium safety. This input cleary should output unacceptable as there are many more negative features than positive ones."
      ]
    },
    {
      "cell_type": "code",
      "metadata": {
        "id": "PF1IhODlsept",
        "colab_type": "code",
        "colab": {
          "base_uri": "https://localhost:8080/",
          "height": 34
        },
        "outputId": "5c640c7b-d767-4533-e5d0-6849a64435f7"
      },
      "source": [
        "test_feature = [np.array([0]), np.array([0]), np.array([0]), np.array([0]), np.array([1]), np.array([1])]\n",
        "prediction = model.predict(test_feature)\n",
        "predicted_lbl = tf.argmax(prediction, axis=-1)\n",
        "print(class_lbls[predicted_lbl[0]])"
      ],
      "execution_count": 148,
      "outputs": [
        {
          "output_type": "stream",
          "text": [
            "unacc\n"
          ],
          "name": "stdout"
        }
      ]
    },
    {
      "cell_type": "markdown",
      "metadata": {
        "id": "-1lyJ6EV0sYw",
        "colab_type": "text"
      },
      "source": [
        "Great! It looks like our model predicted correctly! Now, we can use this model to predict other cars for their acceptability with high confidence!"
      ]
    }
  ]
}