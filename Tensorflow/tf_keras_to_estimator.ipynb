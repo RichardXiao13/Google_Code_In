{
  "nbformat": 4,
  "nbformat_minor": 0,
  "metadata": {
    "colab": {
      "name": "tf_keras to estimator.ipynb",
      "provenance": [],
      "collapsed_sections": [],
      "machine_shape": "hm",
      "include_colab_link": true
    },
    "kernelspec": {
      "name": "python3",
      "display_name": "Python 3"
    },
    "accelerator": "GPU"
  },
  "cells": [
    {
      "cell_type": "markdown",
      "metadata": {
        "id": "view-in-github",
        "colab_type": "text"
      },
      "source": [
        "<a href=\"https://colab.research.google.com/github/RichardXiao13/Google_Code_In/blob/master/tf_keras_to_estimator.ipynb\" target=\"_parent\"><img src=\"https://colab.research.google.com/assets/colab-badge.svg\" alt=\"Open In Colab\"/></a>"
      ]
    },
    {
      "cell_type": "markdown",
      "metadata": {
        "id": "ygc-RNP5HZqi",
        "colab_type": "text"
      },
      "source": [
        "Import the required modules."
      ]
    },
    {
      "cell_type": "code",
      "metadata": {
        "id": "Lj1qOSa9G1Yn",
        "colab_type": "code",
        "outputId": "fdb9f5fb-7097-4cdc-93cf-c63495c3aed3",
        "colab": {
          "base_uri": "https://localhost:8080/",
          "height": 34
        }
      },
      "source": [
        "from __future__ import absolute_import, division, print_function, unicode_literals\n",
        "\n",
        "import matplotlib.pyplot as plt\n",
        "\n",
        "import numpy as np\n",
        "\n",
        "try:\n",
        "  %tensorflow_version 2.x\n",
        "except Exception:\n",
        "  pass\n",
        "\n",
        "import tensorflow as tf\n",
        "\n",
        "import tensorflow_datasets as tfds\n"
      ],
      "execution_count": 0,
      "outputs": [
        {
          "output_type": "stream",
          "text": [
            "TensorFlow 2.x selected.\n"
          ],
          "name": "stdout"
        }
      ]
    },
    {
      "cell_type": "markdown",
      "metadata": {
        "id": "dhHJ3cJuH13c",
        "colab_type": "text"
      },
      "source": [
        "Import the plant_village dataset from tensorflow datasets."
      ]
    },
    {
      "cell_type": "code",
      "metadata": {
        "id": "1CeBbhCbH2D2",
        "colab_type": "code",
        "colab": {}
      },
      "source": [
        "dataset, dataset_info = tfds.load(\"plant_village\", with_info=True, as_supervised=True)"
      ],
      "execution_count": 0,
      "outputs": []
    },
    {
      "cell_type": "markdown",
      "metadata": {
        "id": "xgUQdpmbKOzR",
        "colab_type": "text"
      },
      "source": [
        "Get the number of classes in the plant village dataset. Create a training set with all images in the dataset."
      ]
    },
    {
      "cell_type": "code",
      "metadata": {
        "id": "PVkT96dRJ6Nz",
        "colab_type": "code",
        "colab": {}
      },
      "source": [
        "NUM_CLASSES = dataset_info.features[\"label\"].num_classes\n",
        "\n",
        "num_ex = 0\n",
        "\n",
        "training_set = dataset[\"train\"]"
      ],
      "execution_count": 0,
      "outputs": []
    },
    {
      "cell_type": "markdown",
      "metadata": {
        "id": "OfD-znycKVee",
        "colab_type": "text"
      },
      "source": [
        "Set the size of each image in the dataset to 240 pixels by 240 pixels. Define format_image as a function that resizes each image to previous dimensions and returns the image along with its label. Create training batches of 1000 images."
      ]
    },
    {
      "cell_type": "code",
      "metadata": {
        "id": "JNoWsssJ344U",
        "colab_type": "code",
        "colab": {}
      },
      "source": [
        "IMG_SIZE = 240\n",
        "\n",
        "BATCH_SIZE = 1000\n",
        "\n",
        "def format_image(image, label):\n",
        "  image = tf.image.convert_image_dtype(image, tf.float32)\n",
        "  tf.image.resize(image, (IMG_SIZE, IMG_SIZE))/255.0\n",
        "  image.set_shape([IMG_SIZE,IMG_SIZE,3])\n",
        "  return image, label"
      ],
      "execution_count": 0,
      "outputs": []
    },
    {
      "cell_type": "code",
      "metadata": {
        "id": "iUx8zMvcKV5Y",
        "colab_type": "code",
        "colab": {}
      },
      "source": [
        "training_batches = training_set.map(format_image).batch(BATCH_SIZE).prefetch(1)"
      ],
      "execution_count": 0,
      "outputs": []
    },
    {
      "cell_type": "markdown",
      "metadata": {
        "id": "aJIJYVfCNDoc",
        "colab_type": "text"
      },
      "source": [
        "Create a model with 3 convoluted blocks and 2 dense layers. Inspect a summary of the model."
      ]
    },
    {
      "cell_type": "code",
      "metadata": {
        "id": "QXnZdxkeND5n",
        "colab_type": "code",
        "colab": {}
      },
      "source": [
        "model = tf.keras.Sequential([\n",
        "                             tf.keras.layers.InputLayer(input_shape=(IMG_SIZE, IMG_SIZE, 3)),\n",
        "                             tf.keras.layers.Conv2D(16, (3, 3), activation=\"relu\", padding=\"same\"),\n",
        "                             tf.keras.layers.MaxPool2D(2, 2),\n",
        "\n",
        "                             tf.keras.layers.Conv2D(32, (3, 3), activation=\"relu\", padding=\"same\"),\n",
        "                             tf.keras.layers.MaxPool2D(3, 3),\n",
        "\n",
        "                             tf.keras.layers.Conv2D(64, (3, 3), activation=\"relu\", padding=\"same\"),\n",
        "                             tf.keras.layers.MaxPool2D(4, 4),\n",
        "\n",
        "                             tf.keras.layers.Flatten(),\n",
        "\n",
        "                             tf.keras.layers.Dense(512, activation=\"relu\"),\n",
        "                             tf.keras.layers.Dropout(0.3),\n",
        "                             tf.keras.layers.Dense(NUM_CLASSES, activation=\"softmax\")\n",
        "])\n",
        "\n",
        "model.summary()"
      ],
      "execution_count": 0,
      "outputs": []
    },
    {
      "cell_type": "markdown",
      "metadata": {
        "id": "cf2PLacbO6dh",
        "colab_type": "text"
      },
      "source": [
        "Compile the keras model using the ADAM optimizer, sparse categorical crossentropy loss and accuracy metrics."
      ]
    },
    {
      "cell_type": "code",
      "metadata": {
        "id": "ZvFY8RdmO6y8",
        "colab_type": "code",
        "colab": {}
      },
      "source": [
        "model.compile(optimizer=\"adam\", loss=\"sparse_categorical_crossentropy\", metrics=[\"accuracy\"])"
      ],
      "execution_count": 0,
      "outputs": []
    },
    {
      "cell_type": "markdown",
      "metadata": {
        "id": "_JB5XgGZ_vfd",
        "colab_type": "text"
      },
      "source": [
        "Train the keras model using the training batches and validation batches. Set the epochs to 30."
      ]
    },
    {
      "cell_type": "code",
      "metadata": {
        "id": "UhjeqDpp_s29",
        "colab_type": "code",
        "colab": {}
      },
      "source": [
        "EPOCHS = 30\n",
        "\n",
        "history_keras = model.fit(training_batches,\n",
        "                          epochs=EPOCHS\n",
        "                          )"
      ],
      "execution_count": 0,
      "outputs": []
    },
    {
      "cell_type": "markdown",
      "metadata": {
        "id": "Kb9Gb-B4_Yhe",
        "colab_type": "text"
      },
      "source": [
        "Create the input function for the estimator."
      ]
    },
    {
      "cell_type": "code",
      "metadata": {
        "id": "ui0NaFmUPTtY",
        "colab_type": "code",
        "colab": {}
      },
      "source": [
        "def input_training_function():\n",
        "  data = tfds.load(\"plant_village\", as_supervised=True)\n",
        "  train = data[\"train\"]\n",
        "  train = train.map(format_image).repeat()\n",
        "  return train.batch(BATCH_SIZE)"
      ],
      "execution_count": 0,
      "outputs": []
    },
    {
      "cell_type": "markdown",
      "metadata": {
        "id": "My1butGOqDxd",
        "colab_type": "text"
      },
      "source": [
        "Create an estimator from the keras model."
      ]
    },
    {
      "cell_type": "code",
      "metadata": {
        "id": "JAPBzZG2qEMq",
        "colab_type": "code",
        "colab": {}
      },
      "source": [
        "estimator = tf.keras.estimator.model_to_estimator(keras_model=model)"
      ],
      "execution_count": 0,
      "outputs": []
    },
    {
      "cell_type": "markdown",
      "metadata": {
        "id": "khL9Eo3TrCEd",
        "colab_type": "text"
      },
      "source": [
        "Train the estimator using the same dataset."
      ]
    },
    {
      "cell_type": "code",
      "metadata": {
        "id": "Ma95Lr4urBTy",
        "colab_type": "code",
        "colab": {}
      },
      "source": [
        "history_estimator = estimator.train(input_fn=lambda: input_training_function(), steps=200)"
      ],
      "execution_count": 0,
      "outputs": []
    },
    {
      "cell_type": "markdown",
      "metadata": {
        "id": "WB22-GKEUqht",
        "colab_type": "text"
      },
      "source": [
        "Evaluate the estimator."
      ]
    },
    {
      "cell_type": "code",
      "metadata": {
        "id": "yt332V0WUKXs",
        "colab_type": "code",
        "colab": {}
      },
      "source": [
        "history_estimator = estimator.evaluate(input_fn=lambda: input_training_function(), steps=10)"
      ],
      "execution_count": 0,
      "outputs": []
    },
    {
      "cell_type": "markdown",
      "metadata": {
        "id": "bqUInZieUu51",
        "colab_type": "text"
      },
      "source": [
        "Plot graphs to compare the final accuracies and losses for the keras and estimator models."
      ]
    },
    {
      "cell_type": "code",
      "metadata": {
        "id": "jiaVc375UuWT",
        "colab_type": "code",
        "outputId": "6c2ba8ab-9d36-4e66-f2ea-229d1458795d",
        "colab": {
          "base_uri": "https://localhost:8080/",
          "height": 747
        }
      },
      "source": [
        "est_acc = history_estimator[\"accuracy\"]\n",
        "est_loss = history_estimator[\"loss\"]\n",
        "\n",
        "keras_acc = history_keras.history[\"accuracy\"][29]\n",
        "keras_loss = history_keras.history[\"loss\"][29]\n",
        "\n",
        "plt.figure(figsize=(12, 12))\n",
        "plt.subplot(1, 2, 1)\n",
        "plt.bar([\"keras model\", \"estimator model\"], [keras_acc, est_acc])\n",
        "plt.xlabel(\"Model\")\n",
        "plt.title(\"Final accuracy of Models\")\n",
        "\n",
        "plt.subplot(1, 2, 2)\n",
        "plt.bar([\"keras model\", \"estimator model\"], [keras_loss, est_loss])\n",
        "plt.xlabel(\"Model\")\n",
        "plt.title(\"Final loss of Models\")"
      ],
      "execution_count": 0,
      "outputs": [
        {
          "output_type": "execute_result",
          "data": {
            "text/plain": [
              "Text(0.5, 1.0, 'Final loss of Models')"
            ]
          },
          "metadata": {
            "tags": []
          },
          "execution_count": 23
        },
        {
          "output_type": "display_data",
          "data": {
            "image/png": "[encoded data removed]",
            "text/plain": [
              "<Figure size 864x864 with 2 Axes>"
            ]
          },
          "metadata": {
            "tags": []
          }
        }
      ]
    }
  ]
}
