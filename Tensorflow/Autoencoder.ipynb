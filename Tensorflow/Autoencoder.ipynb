{
  "nbformat": 4,
  "nbformat_minor": 0,
  "metadata": {
    "colab": {
      "name": "Autoencoder.ipynb",
      "provenance": [],
      "include_colab_link": true
    },
    "kernelspec": {
      "name": "python3",
      "display_name": "Python 3"
    },
    "accelerator": "GPU"
  },
  "cells": [
    {
      "cell_type": "markdown",
      "metadata": {
        "id": "view-in-github",
        "colab_type": "text"
      },
      "source": [
        "<a href=\"https://colab.research.google.com/github/RichardXiao13/Google_Code_In/blob/master/Autoencoder.ipynb\" target=\"_parent\"><img src=\"https://colab.research.google.com/assets/colab-badge.svg\" alt=\"Open In Colab\"/></a>"
      ]
    },
    {
      "cell_type": "markdown",
      "metadata": {
        "id": "62qZt6dx-ijX",
        "colab_type": "text"
      },
      "source": [
        "Get tensorflow 2.0."
      ]
    },
    {
      "cell_type": "code",
      "metadata": {
        "id": "qhGD7iZt-fJn",
        "colab_type": "code",
        "colab": {}
      },
      "source": [
        "%tensorflow_version 2.x"
      ],
      "execution_count": 0,
      "outputs": []
    },
    {
      "cell_type": "markdown",
      "metadata": {
        "id": "MEYTwFpC_jxH",
        "colab_type": "text"
      },
      "source": [
        "Use tensorflow's functional API."
      ]
    },
    {
      "cell_type": "code",
      "metadata": {
        "id": "x4fhmOS4_ids",
        "colab_type": "code",
        "colab": {}
      },
      "source": [
        "from tensorflow import keras\n",
        "from tensorflow.keras import layers\n",
        "from tensorflow.keras.models import Model"
      ],
      "execution_count": 0,
      "outputs": []
    },
    {
      "cell_type": "markdown",
      "metadata": {
        "id": "_pl_FrCzSlwB",
        "colab_type": "text"
      },
      "source": [
        "Build the encoder."
      ]
    },
    {
      "cell_type": "code",
      "metadata": {
        "id": "ldodaDWdAK_N",
        "colab_type": "code",
        "colab": {}
      },
      "source": [
        "input_image = layers.Input(shape=(28, 28, 1))\n",
        "layer = layers.Conv2D(32, (3, 3), padding=\"same\", activation=\"relu\")(input_image)\n",
        "layer = layers.Conv2D(32, (3, 3), padding=\"same\", activation=\"relu\")(layer)\n",
        "layer = layers.MaxPooling2D((2, 2), padding=\"same\")(layer)\n",
        "layer = layers.Conv2D(16, (3, 3), padding=\"same\", activation=\"relu\")(layer)\n",
        "layer = layers.Conv2D(16, (3, 3), padding=\"same\", activation=\"relu\")(layer)\n",
        "layer = layers.MaxPooling2D((2, 2), padding=\"same\")(layer)\n",
        "layer = layers.Conv2D(16, (3, 3), padding=\"same\", activation=\"relu\")(layer)\n",
        "layer = layers.Conv2D(16, (3, 3), padding=\"same\", activation=\"relu\")(layer)\n",
        "encode = layers.MaxPooling2D((2, 2), padding=\"same\")(layer)"
      ],
      "execution_count": 0,
      "outputs": []
    },
    {
      "cell_type": "markdown",
      "metadata": {
        "id": "o9tgZY_dSyfW",
        "colab_type": "text"
      },
      "source": [
        "Build the decoder."
      ]
    },
    {
      "cell_type": "code",
      "metadata": {
        "id": "eWmCISWCECpR",
        "colab_type": "code",
        "colab": {}
      },
      "source": [
        "layer = layers.Conv2D(16, (3, 3), padding=\"same\", activation=\"relu\")(encode)\n",
        "layer = layers.Conv2D(16, (3, 3), padding=\"same\", activation=\"relu\")(layer)\n",
        "layer = layers.UpSampling2D((2, 2))(layer)\n",
        "layer = layers.Conv2D(16, (3, 3), padding=\"same\", activation=\"relu\")(layer)\n",
        "layer = layers.Conv2D(16, (3, 3), padding=\"same\", activation=\"relu\")(layer)\n",
        "layer = layers.UpSampling2D((2, 2))(layer)\n",
        "layer = layers.Conv2D(32, (3, 3),padding=\"same\", activation=\"relu\")(layer)\n",
        "layer = layers.Conv2D(32, (3, 3), activation=\"relu\")(layer)\n",
        "layer = layers.UpSampling2D((2, 2))(layer)\n",
        "decode = layers.Conv2D(1, (3, 3), padding=\"same\", activation=\"sigmoid\")(layer)"
      ],
      "execution_count": 0,
      "outputs": []
    },
    {
      "cell_type": "markdown",
      "metadata": {
        "id": "vrnNlGfwS0ZL",
        "colab_type": "text"
      },
      "source": [
        "Create the autoencoder and compile it using the ADAM optimizer and binary crossentropy for loss."
      ]
    },
    {
      "cell_type": "code",
      "metadata": {
        "id": "lIU09g6nEFvv",
        "colab_type": "code",
        "colab": {}
      },
      "source": [
        "autoencoder = keras.models.Model(input_image, decode)\n",
        "autoencoder.compile(optimizer=\"adam\", loss=\"binary_crossentropy\")"
      ],
      "execution_count": 0,
      "outputs": []
    },
    {
      "cell_type": "markdown",
      "metadata": {
        "id": "cWM3mAs2TCDG",
        "colab_type": "text"
      },
      "source": [
        "Import the fashion mnist dataset."
      ]
    },
    {
      "cell_type": "code",
      "metadata": {
        "id": "651lz9stEj2o",
        "colab_type": "code",
        "colab": {}
      },
      "source": [
        "from tensorflow.keras.datasets import fashion_mnist"
      ],
      "execution_count": 0,
      "outputs": []
    },
    {
      "cell_type": "markdown",
      "metadata": {
        "id": "5KeJc8O4THk0",
        "colab_type": "text"
      },
      "source": [
        "Load the dataset into a training and validation set."
      ]
    },
    {
      "cell_type": "code",
      "metadata": {
        "id": "_C1u6jEREvcZ",
        "colab_type": "code",
        "colab": {}
      },
      "source": [
        "(x_train, y_train), (x_test, y_test) = fashion_mnist.load_data()"
      ],
      "execution_count": 0,
      "outputs": []
    },
    {
      "cell_type": "markdown",
      "metadata": {
        "id": "FNfABmc_TNvk",
        "colab_type": "text"
      },
      "source": [
        "Normalize the pixels so that the values of the pixels are between 0 and 1."
      ]
    },
    {
      "cell_type": "code",
      "metadata": {
        "id": "S46lYnp8MfRm",
        "colab_type": "code",
        "colab": {}
      },
      "source": [
        "x_train = x_train.astype(\"float32\")/255.0\n",
        "x_test = x_test.astype(\"float32\")/255.0\n",
        "\n",
        "x_train = x_train.reshape(x_train.shape[0], 28, 28, 1)\n",
        "x_test = x_test.reshape(x_test.shape[0], 28, 28, 1)"
      ],
      "execution_count": 0,
      "outputs": []
    },
    {
      "cell_type": "markdown",
      "metadata": {
        "id": "i55jMggqTYZ3",
        "colab_type": "text"
      },
      "source": [
        "Train the autoencoder on the dataset with 100 epochs and batches of 150 images. Use the testing set for validation."
      ]
    },
    {
      "cell_type": "code",
      "metadata": {
        "id": "_Tefy4xJH6M_",
        "colab_type": "code",
        "outputId": "b66663fb-e544-4f33-c15f-f602c53f103e",
        "colab": {
          "base_uri": "https://localhost:8080/",
          "height": 1000
        }
      },
      "source": [
        "history = autoencoder.fit(x_train, x_train, epochs=100, batch_size=150, shuffle=True, validation_data=(x_test, x_test))"
      ],
      "execution_count": 0,
      "outputs": [
        {
          "output_type": "stream",
          "text": [
            "Train on 60000 samples, validate on 10000 samples\n",
            "Epoch 1/100\n",
            "60000/60000 [==============================] - 7s 115us/sample - loss: 0.3370 - val_loss: 0.2972\n",
            "Epoch 2/100\n",
            "60000/60000 [==============================] - 4s 70us/sample - loss: 0.2916 - val_loss: 0.2910\n",
            "Epoch 3/100\n",
            "60000/60000 [==============================] - 4s 70us/sample - loss: 0.2858 - val_loss: 0.2868\n",
            "Epoch 4/100\n",
            "60000/60000 [==============================] - 4s 70us/sample - loss: 0.2828 - val_loss: 0.2832\n",
            "Epoch 5/100\n",
            "60000/60000 [==============================] - 4s 70us/sample - loss: 0.2804 - val_loss: 0.2813\n",
            "Epoch 6/100\n",
            "60000/60000 [==============================] - 4s 70us/sample - loss: 0.2784 - val_loss: 0.2815\n",
            "Epoch 7/100\n",
            "60000/60000 [==============================] - 4s 70us/sample - loss: 0.2770 - val_loss: 0.2776\n",
            "Epoch 8/100\n",
            "60000/60000 [==============================] - 4s 71us/sample - loss: 0.2755 - val_loss: 0.2770\n",
            "Epoch 9/100\n",
            "60000/60000 [==============================] - 4s 71us/sample - loss: 0.2744 - val_loss: 0.2755\n",
            "Epoch 10/100\n",
            "60000/60000 [==============================] - 4s 71us/sample - loss: 0.2738 - val_loss: 0.2746\n",
            "Epoch 11/100\n",
            "60000/60000 [==============================] - 4s 70us/sample - loss: 0.2728 - val_loss: 0.2752\n",
            "Epoch 12/100\n",
            "60000/60000 [==============================] - 4s 70us/sample - loss: 0.2720 - val_loss: 0.2734\n",
            "Epoch 13/100\n",
            "60000/60000 [==============================] - 4s 71us/sample - loss: 0.2718 - val_loss: 0.2739\n",
            "Epoch 14/100\n",
            "60000/60000 [==============================] - 4s 70us/sample - loss: 0.2711 - val_loss: 0.2725\n",
            "Epoch 15/100\n",
            "60000/60000 [==============================] - 4s 70us/sample - loss: 0.2706 - val_loss: 0.2742\n",
            "Epoch 16/100\n",
            "60000/60000 [==============================] - 4s 70us/sample - loss: 0.2701 - val_loss: 0.2725\n",
            "Epoch 17/100\n",
            "60000/60000 [==============================] - 4s 70us/sample - loss: 0.2697 - val_loss: 0.2713\n",
            "Epoch 18/100\n",
            "60000/60000 [==============================] - 4s 70us/sample - loss: 0.2694 - val_loss: 0.2707\n",
            "Epoch 19/100\n",
            "60000/60000 [==============================] - 4s 70us/sample - loss: 0.2691 - val_loss: 0.2706\n",
            "Epoch 20/100\n",
            "60000/60000 [==============================] - 4s 70us/sample - loss: 0.2685 - val_loss: 0.2710\n",
            "Epoch 21/100\n",
            "60000/60000 [==============================] - 4s 71us/sample - loss: 0.2685 - val_loss: 0.2703\n",
            "Epoch 22/100\n",
            "60000/60000 [==============================] - 4s 71us/sample - loss: 0.2679 - val_loss: 0.2704\n",
            "Epoch 23/100\n",
            "60000/60000 [==============================] - 4s 70us/sample - loss: 0.2678 - val_loss: 0.2700\n",
            "Epoch 24/100\n",
            "60000/60000 [==============================] - 4s 71us/sample - loss: 0.2674 - val_loss: 0.2702\n",
            "Epoch 25/100\n",
            "60000/60000 [==============================] - 4s 70us/sample - loss: 0.2673 - val_loss: 0.2690\n",
            "Epoch 26/100\n",
            "60000/60000 [==============================] - 4s 71us/sample - loss: 0.2669 - val_loss: 0.2687\n",
            "Epoch 27/100\n",
            "60000/60000 [==============================] - 4s 70us/sample - loss: 0.2668 - val_loss: 0.2688\n",
            "Epoch 28/100\n",
            "60000/60000 [==============================] - 4s 71us/sample - loss: 0.2666 - val_loss: 0.2683\n",
            "Epoch 29/100\n",
            "60000/60000 [==============================] - 4s 70us/sample - loss: 0.2663 - val_loss: 0.2683\n",
            "Epoch 30/100\n",
            "60000/60000 [==============================] - 4s 71us/sample - loss: 0.2662 - val_loss: 0.2688\n",
            "Epoch 31/100\n",
            "60000/60000 [==============================] - 4s 70us/sample - loss: 0.2659 - val_loss: 0.2681\n",
            "Epoch 32/100\n",
            "60000/60000 [==============================] - 4s 70us/sample - loss: 0.2658 - val_loss: 0.2677\n",
            "Epoch 33/100\n",
            "60000/60000 [==============================] - 4s 70us/sample - loss: 0.2657 - val_loss: 0.2676\n",
            "Epoch 34/100\n",
            "60000/60000 [==============================] - 4s 70us/sample - loss: 0.2655 - val_loss: 0.2674\n",
            "Epoch 35/100\n",
            "60000/60000 [==============================] - 4s 71us/sample - loss: 0.2652 - val_loss: 0.2671\n",
            "Epoch 36/100\n",
            "60000/60000 [==============================] - 4s 70us/sample - loss: 0.2651 - val_loss: 0.2671\n",
            "Epoch 37/100\n",
            "60000/60000 [==============================] - 4s 71us/sample - loss: 0.2649 - val_loss: 0.2667\n",
            "Epoch 38/100\n",
            "60000/60000 [==============================] - 4s 70us/sample - loss: 0.2648 - val_loss: 0.2665\n",
            "Epoch 39/100\n",
            "60000/60000 [==============================] - 4s 70us/sample - loss: 0.2646 - val_loss: 0.2663\n",
            "Epoch 40/100\n",
            "60000/60000 [==============================] - 4s 70us/sample - loss: 0.2645 - val_loss: 0.2661\n",
            "Epoch 41/100\n",
            "60000/60000 [==============================] - 4s 70us/sample - loss: 0.2644 - val_loss: 0.2662\n",
            "Epoch 42/100\n",
            "60000/60000 [==============================] - 4s 70us/sample - loss: 0.2642 - val_loss: 0.2664\n",
            "Epoch 43/100\n",
            "60000/60000 [==============================] - 4s 70us/sample - loss: 0.2643 - val_loss: 0.2662\n",
            "Epoch 44/100\n",
            "60000/60000 [==============================] - 4s 70us/sample - loss: 0.2640 - val_loss: 0.2657\n",
            "Epoch 45/100\n",
            "60000/60000 [==============================] - 4s 70us/sample - loss: 0.2639 - val_loss: 0.2658\n",
            "Epoch 46/100\n",
            "60000/60000 [==============================] - 4s 70us/sample - loss: 0.2637 - val_loss: 0.2654\n",
            "Epoch 47/100\n",
            "60000/60000 [==============================] - 4s 70us/sample - loss: 0.2637 - val_loss: 0.2659\n",
            "Epoch 48/100\n",
            "60000/60000 [==============================] - 4s 71us/sample - loss: 0.2636 - val_loss: 0.2653\n",
            "Epoch 49/100\n",
            "60000/60000 [==============================] - 4s 70us/sample - loss: 0.2634 - val_loss: 0.2651\n",
            "Epoch 50/100\n",
            "60000/60000 [==============================] - 4s 71us/sample - loss: 0.2633 - val_loss: 0.2651\n",
            "Epoch 51/100\n",
            "60000/60000 [==============================] - 4s 70us/sample - loss: 0.2632 - val_loss: 0.2655\n",
            "Epoch 52/100\n",
            "60000/60000 [==============================] - 4s 70us/sample - loss: 0.2632 - val_loss: 0.2649\n",
            "Epoch 53/100\n",
            "60000/60000 [==============================] - 4s 70us/sample - loss: 0.2630 - val_loss: 0.2658\n",
            "Epoch 54/100\n",
            "60000/60000 [==============================] - 4s 70us/sample - loss: 0.2629 - val_loss: 0.2645\n",
            "Epoch 55/100\n",
            "60000/60000 [==============================] - 4s 70us/sample - loss: 0.2628 - val_loss: 0.2644\n",
            "Epoch 56/100\n",
            "60000/60000 [==============================] - 4s 70us/sample - loss: 0.2627 - val_loss: 0.2668\n",
            "Epoch 57/100\n",
            "60000/60000 [==============================] - 4s 70us/sample - loss: 0.2626 - val_loss: 0.2644\n",
            "Epoch 58/100\n",
            "60000/60000 [==============================] - 4s 71us/sample - loss: 0.2625 - val_loss: 0.2645\n",
            "Epoch 59/100\n",
            "60000/60000 [==============================] - 4s 70us/sample - loss: 0.2624 - val_loss: 0.2647\n",
            "Epoch 60/100\n",
            "60000/60000 [==============================] - 4s 70us/sample - loss: 0.2623 - val_loss: 0.2641\n",
            "Epoch 61/100\n",
            "60000/60000 [==============================] - 4s 70us/sample - loss: 0.2622 - val_loss: 0.2643\n",
            "Epoch 62/100\n",
            "60000/60000 [==============================] - 4s 70us/sample - loss: 0.2622 - val_loss: 0.2641\n",
            "Epoch 63/100\n",
            "60000/60000 [==============================] - 4s 70us/sample - loss: 0.2621 - val_loss: 0.2644\n",
            "Epoch 64/100\n",
            "60000/60000 [==============================] - 4s 70us/sample - loss: 0.2619 - val_loss: 0.2640\n",
            "Epoch 65/100\n",
            "60000/60000 [==============================] - 4s 70us/sample - loss: 0.2620 - val_loss: 0.2636\n",
            "Epoch 66/100\n",
            "60000/60000 [==============================] - 4s 70us/sample - loss: 0.2617 - val_loss: 0.2636\n",
            "Epoch 67/100\n",
            "60000/60000 [==============================] - 4s 70us/sample - loss: 0.2618 - val_loss: 0.2636\n",
            "Epoch 68/100\n",
            "60000/60000 [==============================] - 4s 70us/sample - loss: 0.2617 - val_loss: 0.2634\n",
            "Epoch 69/100\n",
            "60000/60000 [==============================] - 4s 70us/sample - loss: 0.2615 - val_loss: 0.2646\n",
            "Epoch 70/100\n",
            "60000/60000 [==============================] - 4s 70us/sample - loss: 0.2615 - val_loss: 0.2632\n",
            "Epoch 71/100\n",
            "60000/60000 [==============================] - 4s 70us/sample - loss: 0.2615 - val_loss: 0.2633\n",
            "Epoch 72/100\n",
            "60000/60000 [==============================] - 4s 70us/sample - loss: 0.2614 - val_loss: 0.2632\n",
            "Epoch 73/100\n",
            "60000/60000 [==============================] - 4s 70us/sample - loss: 0.2613 - val_loss: 0.2631\n",
            "Epoch 74/100\n",
            "60000/60000 [==============================] - 4s 70us/sample - loss: 0.2612 - val_loss: 0.2644\n",
            "Epoch 75/100\n",
            "60000/60000 [==============================] - 4s 70us/sample - loss: 0.2612 - val_loss: 0.2632\n",
            "Epoch 76/100\n",
            "60000/60000 [==============================] - 4s 70us/sample - loss: 0.2611 - val_loss: 0.2632\n",
            "Epoch 77/100\n",
            "60000/60000 [==============================] - 4s 70us/sample - loss: 0.2611 - val_loss: 0.2633\n",
            "Epoch 78/100\n",
            "60000/60000 [==============================] - 4s 70us/sample - loss: 0.2610 - val_loss: 0.2627\n",
            "Epoch 79/100\n",
            "60000/60000 [==============================] - 4s 69us/sample - loss: 0.2609 - val_loss: 0.2631\n",
            "Epoch 80/100\n",
            "60000/60000 [==============================] - 4s 70us/sample - loss: 0.2611 - val_loss: 0.2631\n",
            "Epoch 81/100\n",
            "60000/60000 [==============================] - 4s 70us/sample - loss: 0.2607 - val_loss: 0.2628\n",
            "Epoch 82/100\n",
            "60000/60000 [==============================] - 4s 72us/sample - loss: 0.2607 - val_loss: 0.2636\n",
            "Epoch 83/100\n",
            "60000/60000 [==============================] - 4s 70us/sample - loss: 0.2606 - val_loss: 0.2625\n",
            "Epoch 84/100\n",
            "60000/60000 [==============================] - 4s 69us/sample - loss: 0.2607 - val_loss: 0.2623\n",
            "Epoch 85/100\n",
            "60000/60000 [==============================] - 4s 70us/sample - loss: 0.2606 - val_loss: 0.2626\n",
            "Epoch 86/100\n",
            "60000/60000 [==============================] - 4s 70us/sample - loss: 0.2605 - val_loss: 0.2626\n",
            "Epoch 87/100\n",
            "60000/60000 [==============================] - 4s 71us/sample - loss: 0.2605 - val_loss: 0.2623\n",
            "Epoch 88/100\n",
            "60000/60000 [==============================] - 4s 70us/sample - loss: 0.2604 - val_loss: 0.2631\n",
            "Epoch 89/100\n",
            "60000/60000 [==============================] - 4s 70us/sample - loss: 0.2603 - val_loss: 0.2630\n",
            "Epoch 90/100\n",
            "60000/60000 [==============================] - 4s 71us/sample - loss: 0.2603 - val_loss: 0.2620\n",
            "Epoch 91/100\n",
            "60000/60000 [==============================] - 4s 70us/sample - loss: 0.2603 - val_loss: 0.2620\n",
            "Epoch 92/100\n",
            "60000/60000 [==============================] - 4s 70us/sample - loss: 0.2602 - val_loss: 0.2623\n",
            "Epoch 93/100\n",
            "60000/60000 [==============================] - 4s 70us/sample - loss: 0.2601 - val_loss: 0.2631\n",
            "Epoch 94/100\n",
            "60000/60000 [==============================] - 4s 70us/sample - loss: 0.2601 - val_loss: 0.2622\n",
            "Epoch 95/100\n",
            "60000/60000 [==============================] - 4s 70us/sample - loss: 0.2601 - val_loss: 0.2617\n",
            "Epoch 96/100\n",
            "60000/60000 [==============================] - 4s 70us/sample - loss: 0.2600 - val_loss: 0.2618\n",
            "Epoch 97/100\n",
            "60000/60000 [==============================] - 4s 70us/sample - loss: 0.2600 - val_loss: 0.2622\n",
            "Epoch 98/100\n",
            "60000/60000 [==============================] - 4s 70us/sample - loss: 0.2599 - val_loss: 0.2616\n",
            "Epoch 99/100\n",
            "60000/60000 [==============================] - 4s 70us/sample - loss: 0.2599 - val_loss: 0.2617\n",
            "Epoch 100/100\n",
            "60000/60000 [==============================] - 4s 70us/sample - loss: 0.2598 - val_loss: 0.2617\n"
          ],
          "name": "stdout"
        }
      ]
    },
    {
      "cell_type": "markdown",
      "metadata": {
        "id": "zVkMDnQyWbHG",
        "colab_type": "text"
      },
      "source": [
        "Import matplotlib to visualize the decoded images. Input a prediction of 20 images and plot the unprocessed images. Then, plot the processed images below the corresponding unprocessed images."
      ]
    },
    {
      "cell_type": "code",
      "metadata": {
        "id": "mdnGbBzxRglU",
        "colab_type": "code",
        "outputId": "4f8d72af-f05d-44f6-d65d-b09d5c88326b",
        "colab": {
          "base_uri": "https://localhost:8080/",
          "height": 215
        }
      },
      "source": [
        "import matplotlib.pyplot as plt\n",
        "\n",
        "results = autoencoder.predict(x_test[0:20])\n",
        "\n",
        "plt.figure(figsize=(28, 4))\n",
        "\n",
        "for i in range(len(results)):\n",
        "  plt.subplot(2, len(results), i+1)\n",
        "  plt.imshow(x_test[i].reshape(28, 28))\n",
        "  plt.gray()\n",
        "  plt.axis(\"off\")\n",
        "\n",
        "  plt.subplot(2, len(results), i+1+len(results))\n",
        "  plt.imshow(results[i].reshape(28, 28))\n",
        "  plt.gray()\n",
        "  plt.axis(\"off\")"
      ],
      "execution_count": 0,
      "outputs": [
        {
          "output_type": "display_data",
          "data": {
            "image/png": "[encoded data removed]",
            "text/plain": [
              "<Figure size 2016x288 with 40 Axes>"
            ]
          },
          "metadata": {
            "tags": []
          }
        }
      ]
    }
  ]
}
