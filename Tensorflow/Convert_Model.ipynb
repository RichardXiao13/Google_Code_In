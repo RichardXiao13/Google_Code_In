{
  "nbformat": 4,
  "nbformat_minor": 0,
  "metadata": {
    "colab": {
      "name": "Convert_Model.ipynb",
      "provenance": [],
      "toc_visible": true,
      "include_colab_link": true
    },
    "kernelspec": {
      "name": "python3",
      "display_name": "Python 3"
    },
    "accelerator": "GPU"
  },
  "cells": [
    {
      "cell_type": "markdown",
      "metadata": {
        "id": "view-in-github",
        "colab_type": "text"
      },
      "source": [
        "<a href=\"https://colab.research.google.com/github/RichardXiao13/Google_Code_In/blob/master/Convert_Model.ipynb\" target=\"_parent\"><img src=\"https://colab.research.google.com/assets/colab-badge.svg\" alt=\"Open In Colab\"/></a>"
      ]
    },
    {
      "cell_type": "markdown",
      "metadata": {
        "id": "daGsfWHVvzt5",
        "colab_type": "text"
      },
      "source": [
        "Install tensorflowjs as well as tensorflow."
      ]
    },
    {
      "cell_type": "code",
      "metadata": {
        "id": "zWJfSiXjtK7B",
        "colab_type": "code",
        "colab": {}
      },
      "source": [
        "!pip install tensorflowjs"
      ],
      "execution_count": 0,
      "outputs": []
    },
    {
      "cell_type": "code",
      "metadata": {
        "id": "gZKZijLjwgnj",
        "colab_type": "code",
        "colab": {}
      },
      "source": [
        "try:\n",
        "  %tensorflow_version 2.x\n",
        "except:\n",
        "  Exception\n",
        "import tensorflow as tf"
      ],
      "execution_count": 0,
      "outputs": []
    },
    {
      "cell_type": "markdown",
      "metadata": {
        "id": "-Lc87M9I6Kj1",
        "colab_type": "text"
      },
      "source": [
        "Download the InceptionV3 model and save it to a h5 file and SavedModel file."
      ]
    },
    {
      "cell_type": "code",
      "metadata": {
        "id": "ucoTSDZW2hhB",
        "colab_type": "code",
        "colab": {}
      },
      "source": [
        "pretrained_model = tf.keras.applications.InceptionV3()"
      ],
      "execution_count": 0,
      "outputs": []
    },
    {
      "cell_type": "code",
      "metadata": {
        "id": "oDP5YRBSuy6l",
        "colab_type": "code",
        "colab": {}
      },
      "source": [
        "pretrained_model.save(\"model_save.h5\")\n",
        "tf.saved_model.save(pretrained_model, \"/content/saved_model\")"
      ],
      "execution_count": 0,
      "outputs": []
    },
    {
      "cell_type": "markdown",
      "metadata": {
        "id": "jA1H9LgrCFmx",
        "colab_type": "text"
      },
      "source": [
        "# **tensorflowjs_converter**\n",
        "To convert our model, we will use tensorflowjs_converter. When we run this command, we are able to convert our model into a web friendly model. It takes an input_format which is the format of the original model. In this case, it is either a keras or saved model. It also takes the file path for the input model. The converted model is then saved to the file path designated by the output path you specify. It saves the model in json format and it saves shard files which are the weights of the model."
      ]
    },
    {
      "cell_type": "markdown",
      "metadata": {
        "id": "8ihg5RrDxHt6",
        "colab_type": "text"
      },
      "source": [
        "Convert the model into a tfjs layers model and save it into a json file using tensorflowjs."
      ]
    },
    {
      "cell_type": "code",
      "metadata": {
        "id": "-c4fcqb0xIDk",
        "colab_type": "code",
        "colab": {}
      },
      "source": [
        "!tensorflowjs_converter --input_format=keras /content/model.h5 /content/tfjs_layers_model"
      ],
      "execution_count": 0,
      "outputs": []
    },
    {
      "cell_type": "markdown",
      "metadata": {
        "id": "y2nSs45PjppG",
        "colab_type": "text"
      },
      "source": [
        "Also convert the model into a tfjs graph model."
      ]
    },
    {
      "cell_type": "code",
      "metadata": {
        "id": "9F8InnPQjoMM",
        "colab_type": "code",
        "outputId": "da0e9477-7835-4cb6-b22c-d91b1d8d6d93",
        "colab": {
          "base_uri": "https://localhost:8080/",
          "height": 71
        }
      },
      "source": [
        "!tensorflowjs_converter --input_format=tf_saved_model /content/saved_model /content/tfjs_graph_model"
      ],
      "execution_count": 0,
      "outputs": [
        {
          "output_type": "stream",
          "text": [
            "2019-12-22 18:16:04.214907: W tensorflow/core/common_runtime/gpu/gpu_bfc_allocator.cc:39] Overriding allow_growth setting because the TF_FORCE_GPU_ALLOW_GROWTH environment variable is set. Original config value was 0.\n",
            "Writing weight file /content/tfjs_graph_model/model.json...\n"
          ],
          "name": "stdout"
        }
      ]
    },
    {
      "cell_type": "markdown",
      "metadata": {
        "id": "B78jUYZZ0umQ",
        "colab_type": "text"
      },
      "source": [
        "Finally, we can run the models in our broswer using \n",
        "\n",
        "```\n",
        "const model = await tf.loadGraphModel(MODEL_URL);\n",
        "```\n",
        "for our tfjs graph model or\n",
        "\n",
        "```\n",
        "const model = await tf.loadLayersModel(MODEL_URL);\n",
        "```\n",
        "for our tfjs layers model.\n",
        "\n",
        "\n",
        "\n"
      ]
    },
    {
      "cell_type": "markdown",
      "metadata": {
        "id": "2Uej69_tWygS",
        "colab_type": "text"
      },
      "source": [
        "# **Layers Model Vs Graph Model**\n",
        "The main difference between a tfjs layers model and a tfjs graph model is that a layers model can be trained on new data meaning that its parameters can be updated. A graph model cannot be trained on new data which means that its parameters cannot be changed."
      ]
    }
  ]
}
