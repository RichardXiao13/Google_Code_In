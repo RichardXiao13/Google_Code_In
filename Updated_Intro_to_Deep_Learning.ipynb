{
  "nbformat": 4,
  "nbformat_minor": 0,
  "metadata": {
    "colab": {
      "name": "Updated_Intro_to_Deep_Learning.ipynb",
      "provenance": [],
      "toc_visible": true,
      "include_colab_link": true
    },
    "kernelspec": {
      "name": "python3",
      "display_name": "Python 3"
    }
  },
  "cells": [
    {
      "cell_type": "markdown",
      "metadata": {
        "id": "view-in-github",
        "colab_type": "text"
      },
      "source": [
        "<a href=\"https://colab.research.google.com/github/RichardXiao13/Google_Code_In/blob/master/Updated_Intro_to_Deep_Learning.ipynb\" target=\"_parent\"><img src=\"https://colab.research.google.com/assets/colab-badge.svg\" alt=\"Open In Colab\"/></a>"
      ]
    },
    {
      "cell_type": "markdown",
      "metadata": {
        "id": "-n4OgqIU79T7",
        "colab_type": "text"
      },
      "source": [
        "# **Keras vs. tf.keras**\n",
        "In this tutorial, we will be using the keras tutorial from towardsdatascience.com found [here](https://towardsdatascience.com/introduction-to-deep-learning-with-keras-17c09e4f0eb2). From there, we will update the guide to fit tensorflow 2.x and tf.keras."
      ]
    },
    {
      "cell_type": "code",
      "metadata": {
        "id": "7AHElKwnRBRz",
        "colab_type": "code",
        "outputId": "3374d1c1-6814-4a78-a9e0-4375e60d17b8",
        "colab": {
          "base_uri": "https://localhost:8080/",
          "height": 34
        }
      },
      "source": [
        "%tensorflow_version 2.x"
      ],
      "execution_count": 0,
      "outputs": [
        {
          "output_type": "stream",
          "text": [
            "TensorFlow 2.x selected.\n"
          ],
          "name": "stdout"
        }
      ]
    },
    {
      "cell_type": "markdown",
      "metadata": {
        "id": "rnc8lQsiQDEs",
        "colab_type": "text"
      },
      "source": [
        "# **Loading in a Dataset**\n",
        "There are many datasets to choose from in the datasets catalog from Tensorflow. We will be using the MNIST dataset which contains 70000 images of size 28 by 28 of handwritten numbers. Therefore, there are 10 classes."
      ]
    },
    {
      "cell_type": "code",
      "metadata": {
        "id": "XZHZlMhn73Im",
        "colab_type": "code",
        "outputId": "70b070cf-166f-4700-9526-978bd257d206",
        "colab": {
          "base_uri": "https://localhost:8080/",
          "height": 51
        }
      },
      "source": [
        "from tensorflow.keras.datasets import mnist\n",
        "(x_train, y_train), (x_test, y_test) = mnist.load_data()"
      ],
      "execution_count": 0,
      "outputs": [
        {
          "output_type": "stream",
          "text": [
            "Downloading data from https://storage.googleapis.com/tensorflow/tf-keras-datasets/mnist.npz\n",
            "11493376/11490434 [==============================] - 0s 0us/step\n"
          ],
          "name": "stdout"
        }
      ]
    },
    {
      "cell_type": "markdown",
      "metadata": {
        "id": "2vBgy15TSpW1",
        "colab_type": "text"
      },
      "source": [
        "# **Reformat Data**\n",
        "In order to input the images into our convolutional neural net, we must add a dimension to our images which specifies the batch size. We also want to normalize the pixels into the range (0, 1)."
      ]
    },
    {
      "cell_type": "code",
      "metadata": {
        "id": "YhY2KwOTSpna",
        "colab_type": "code",
        "colab": {}
      },
      "source": [
        "x_train = x_train.astype('float32')\n",
        "x_test = x_test.astype('float32')\n",
        "x_train /= 255\n",
        "x_test /= 255\n",
        "x_train = x_train.reshape(x_train.shape[0], 28, 28, 1)\n",
        "x_test = x_test.reshape(x_test.shape[0], 28, 28, 1)"
      ],
      "execution_count": 0,
      "outputs": []
    },
    {
      "cell_type": "markdown",
      "metadata": {
        "id": "6i2lHbsjiyPc",
        "colab_type": "text"
      },
      "source": [
        "Afterwards, we can transform the labels into a one-hot encoding."
      ]
    },
    {
      "cell_type": "code",
      "metadata": {
        "id": "wQ7MkF5uiyex",
        "colab_type": "code",
        "colab": {}
      },
      "source": [
        "from tensorflow.keras.utils import to_categorical\n",
        "\n",
        "y_train = to_categorical(y_train, 10)\n",
        "y_test = to_categorical(y_test, 10)"
      ],
      "execution_count": 0,
      "outputs": []
    },
    {
      "cell_type": "markdown",
      "metadata": {
        "id": "cvmber9TjPZt",
        "colab_type": "text"
      },
      "source": [
        "# **Building a Model using Sequential**\n",
        "The Sequential API allows us to stack layers on top of each other. The only downside is that we cannot have multiple outputs or inputs when using these models. Nevertheless, we can create a Sequential object and use the add() function to add layers to our model."
      ]
    },
    {
      "cell_type": "code",
      "metadata": {
        "id": "LWO-XGaijPkn",
        "colab_type": "code",
        "colab": {}
      },
      "source": [
        "from tensorflow.keras.models import Sequential\n",
        "from tensorflow.keras.layers import Conv2D, MaxPool2D, Dense, Flatten, Dropout\n",
        "\n",
        "seq_model = Sequential()\n",
        "seq_model.add(Conv2D(filters=32, kernel_size=(5,5), activation='relu', input_shape=x_train.shape[1:]))\n",
        "seq_model.add(Conv2D(filters=32, kernel_size=(5,5), activation='relu'))\n",
        "seq_model.add(MaxPool2D(pool_size=(2, 2)))\n",
        "seq_model.add(Dropout(rate=0.25))\n",
        "seq_model.add(Conv2D(filters=64, kernel_size=(3, 3), activation='relu'))\n",
        "seq_model.add(Conv2D(filters=64, kernel_size=(3, 3), activation='relu'))\n",
        "seq_model.add(MaxPool2D(pool_size=(2, 2)))\n",
        "seq_model.add(Dropout(rate=0.25))\n",
        "seq_model.add(Flatten())\n",
        "seq_model.add(Dense(256, activation='relu'))\n",
        "seq_model.add(Dropout(rate=0.5))\n",
        "seq_model.add(Dense(10, activation='softmax'))"
      ],
      "execution_count": 0,
      "outputs": []
    },
    {
      "cell_type": "markdown",
      "metadata": {
        "id": "zvIaW_KckjM5",
        "colab_type": "text"
      },
      "source": [
        "Alternatively, we may pass layers to the Sequential object directly as such: \n",
        "\n",
        "```\n",
        "seq_model = Sequential([\n",
        "    Conv2D(filters=32, kernel_size=(5,5), activation='relu', input_shape=x_train.shape[1:]),\n",
        "    Conv2D(filters=32, kernel_size=(5,5), activation='relu'),\n",
        "    MaxPool2D(pool_size=(2, 2)),\n",
        "    Dropout(rate=0.25),\n",
        "    Conv2D(filters=64, kernel_size=(3,3), activation='relu'),\n",
        "    Conv2D(filters=64, kernel_size=(3,3), activation='relu'),\n",
        "    MaxPool2D(pool_size=(2, 2)),\n",
        "    Dropout(rate=0.25),\n",
        "    Flatten(),\n",
        "    Dense(256, activation='relu'),\n",
        "    Dropout(rate=0.5),\n",
        "    Dense(10, activation='softmax')\n",
        "])\n",
        "```\n",
        "\n"
      ]
    },
    {
      "cell_type": "markdown",
      "metadata": {
        "id": "reGTVTM8k8vC",
        "colab_type": "text"
      },
      "source": [
        "# **Building a Model Using the Functional API**\n",
        "The functional API is a different way to create models using tf.keras. Functional models allow for multiple inputs and outputs, however, the flexibility comes at the cost of simplicity. Below, we see that each layer must be passed to the next layer. We also see that we must specify an input layer."
      ]
    },
    {
      "cell_type": "code",
      "metadata": {
        "id": "yosxAtLpk-pZ",
        "colab_type": "code",
        "colab": {}
      },
      "source": [
        "from tensorflow.keras.models import Model\n",
        "from tensorflow.keras.layers import Input\n",
        "\n",
        "inputs = Input(shape=x_train.shape[1:])\n",
        "\n",
        "x = Conv2D(filters=32, kernel_size=(5,5), activation='relu')(inputs)\n",
        "x = Conv2D(filters=32, kernel_size=(5,5), activation='relu')(x)\n",
        "x = MaxPool2D(pool_size=(2, 2))(x)\n",
        "x = Dropout(rate=0.25)(x)\n",
        "\n",
        "x = Conv2D(filters=64, kernel_size=(3,3), activation='relu')(x)\n",
        "x = Conv2D(filters=64, kernel_size=(3,3), activation='relu')(x)\n",
        "x = MaxPool2D(pool_size=(2, 2))(x)\n",
        "x = Dropout(rate=0.25)(x)\n",
        "\n",
        "x = Flatten()(x)\n",
        "x = Dense(256, activation='relu')(x)\n",
        "x = Dropout(rate=0.5)(x)\n",
        "predictions = Dense(10, activation='softmax')(x)\n",
        "\n",
        "func_model = Model(inputs=inputs, outputs=predictions)"
      ],
      "execution_count": 0,
      "outputs": []
    },
    {
      "cell_type": "markdown",
      "metadata": {
        "id": "0mgWuGn4mgpG",
        "colab_type": "text"
      },
      "source": [
        "# **Compile the Model**\n",
        "Before training, we must specify some parameters for the training process. These include your optimizer, loss, and, optionally, metrics. The loss measures how well our model is doing. The optimizer is used to update the weights of our model by trying to minimize the loss function."
      ]
    },
    {
      "cell_type": "code",
      "metadata": {
        "id": "U_nLZx6enSCF",
        "colab_type": "code",
        "colab": {}
      },
      "source": [
        "seq_model.compile(\n",
        "    loss='categorical_crossentropy', \n",
        "    optimizer='adam', \n",
        "    metrics=['accuracy']\n",
        ")\n",
        "\n",
        "func_model.compile(\n",
        "    loss='categorical_crossentropy', \n",
        "    optimizer='adam', \n",
        "    metrics=['accuracy']\n",
        ")"
      ],
      "execution_count": 0,
      "outputs": []
    },
    {
      "cell_type": "markdown",
      "metadata": {
        "id": "-oWBgs6rnhU7",
        "colab_type": "text"
      },
      "source": [
        "# **Data Augmentation**\n",
        "Data augmentation is a process of increasing the amount of available data by adding transformations of the original image such as zoom, shifts, and rotations. This can help when you do not have enough data. We can use the ImageDataGenerator from tf.keras to provide these transformations."
      ]
    },
    {
      "cell_type": "code",
      "metadata": {
        "id": "TjcBLGpBnhjU",
        "colab_type": "code",
        "colab": {}
      },
      "source": [
        "from tensorflow.keras.preprocessing.image import ImageDataGenerator\n",
        "\n",
        "datagen = ImageDataGenerator(\n",
        "  rotation_range=10,\n",
        "  zoom_range=0.1,\n",
        "  width_shift_range=0.1,\n",
        "  height_shift_range=0.1\n",
        ")"
      ],
      "execution_count": 0,
      "outputs": []
    },
    {
      "cell_type": "markdown",
      "metadata": {
        "id": "7HIxu8i-omD-",
        "colab_type": "text"
      },
      "source": [
        "# **Fit the Model**\n",
        "Usually, we would use the fit() method to train our model, but in this case, we must use fit_generator() because we are using a datagenerator. We pass it our generator, data, epochs, and batch size. Then, we will pass a validation set to monitor how well our model does on unseen data. Finally, we pass a steps_per_epoch."
      ]
    },
    {
      "cell_type": "code",
      "metadata": {
        "id": "IC9qBKWVomQ2",
        "colab_type": "code",
        "outputId": "f83e0e72-5cd5-4710-b8c6-432c6c044741",
        "colab": {
          "base_uri": "https://localhost:8080/",
          "height": 255
        }
      },
      "source": [
        "epochs = 3\n",
        "batch_size = 32\n",
        "seq_history = seq_model.fit_generator(datagen.flow(x_train, y_train, batch_size=batch_size), epochs=epochs,\n",
        "                              validation_data=(x_test, y_test), steps_per_epoch=x_train.shape[0]//batch_size)"
      ],
      "execution_count": 0,
      "outputs": [
        {
          "output_type": "stream",
          "text": [
            "WARNING:tensorflow:From <ipython-input-9-079fb1616eb7>:4: Model.fit_generator (from tensorflow.python.keras.engine.training) is deprecated and will be removed in a future version.\n",
            "Instructions for updating:\n",
            "Please use Model.fit, which supports generators.\n",
            "WARNING:tensorflow:sample_weight modes were coerced from\n",
            "  ...\n",
            "    to  \n",
            "  ['...']\n",
            "Train for 1875 steps, validate on 10000 samples\n",
            "Epoch 1/3\n",
            "1875/1875 [==============================] - 230s 123ms/step - loss: 0.3523 - accuracy: 0.8885 - val_loss: 0.0481 - val_accuracy: 0.9848\n",
            "Epoch 2/3\n",
            "1875/1875 [==============================] - 233s 124ms/step - loss: 0.1221 - accuracy: 0.9643 - val_loss: 0.0366 - val_accuracy: 0.9879\n",
            "Epoch 3/3\n",
            "1875/1875 [==============================] - 235s 125ms/step - loss: 0.0950 - accuracy: 0.9722 - val_loss: 0.0241 - val_accuracy: 0.9928\n"
          ],
          "name": "stdout"
        }
      ]
    },
    {
      "cell_type": "code",
      "metadata": {
        "id": "Bgj0IHVcpbHb",
        "colab_type": "code",
        "outputId": "28b868a7-26b0-4688-adee-87744e32b771",
        "colab": {
          "base_uri": "https://localhost:8080/",
          "height": 204
        }
      },
      "source": [
        "func_history = func_model.fit_generator(datagen.flow(x_train, y_train, batch_size=batch_size), epochs=epochs,\n",
        "                              validation_data=(x_test, y_test), steps_per_epoch=x_train.shape[0]//batch_size)"
      ],
      "execution_count": 0,
      "outputs": [
        {
          "output_type": "stream",
          "text": [
            "WARNING:tensorflow:sample_weight modes were coerced from\n",
            "  ...\n",
            "    to  \n",
            "  ['...']\n",
            "Train for 1875 steps, validate on 10000 samples\n",
            "Epoch 1/3\n",
            "1875/1875 [==============================] - 238s 127ms/step - loss: 0.3584 - accuracy: 0.8857 - val_loss: 0.0361 - val_accuracy: 0.9880\n",
            "Epoch 2/3\n",
            "1875/1875 [==============================] - 237s 126ms/step - loss: 0.1169 - accuracy: 0.9658 - val_loss: 0.0242 - val_accuracy: 0.9916\n",
            "Epoch 3/3\n",
            "1875/1875 [==============================] - 234s 125ms/step - loss: 0.0891 - accuracy: 0.9739 - val_loss: 0.0218 - val_accuracy: 0.9926\n"
          ],
          "name": "stdout"
        }
      ]
    },
    {
      "cell_type": "markdown",
      "metadata": {
        "id": "ndSGN169qTSK",
        "colab_type": "text"
      },
      "source": [
        "# **Visualize Data**\n",
        "Here, we will use matplotlib to graph the accuracy and loss metrics of our models which are  stored in their history objects."
      ]
    },
    {
      "cell_type": "code",
      "metadata": {
        "id": "4VpVidrCqTjF",
        "colab_type": "code",
        "outputId": "365c8da0-4532-401b-864e-a4e128590c22",
        "colab": {
          "base_uri": "https://localhost:8080/",
          "height": 312
        }
      },
      "source": [
        "import matplotlib.pyplot as plt\n",
        "\n",
        "plt.plot(seq_history.history['accuracy'], label='training accuracy')\n",
        "plt.plot(seq_history.history['val_accuracy'], label='testing accuracy')\n",
        "plt.title('Accuracy')\n",
        "plt.xlabel('epochs')\n",
        "plt.ylabel('accuracy')\n",
        "plt.legend()"
      ],
      "execution_count": 0,
      "outputs": [
        {
          "output_type": "execute_result",
          "data": {
            "text/plain": [
              "<matplotlib.legend.Legend at 0x7fbfea9d8208>"
            ]
          },
          "metadata": {
            "tags": []
          },
          "execution_count": 11
        },
        {
          "output_type": "display_data",
          "data": {
            "image/png": "[encoded data removed]",
            "text/plain": [
              "<Figure size 432x288 with 1 Axes>"
            ]
          },
          "metadata": {
            "tags": []
          }
        }
      ]
    },
    {
      "cell_type": "code",
      "metadata": {
        "id": "3YgbOe5TscfI",
        "colab_type": "code",
        "outputId": "8fae44ef-90d3-4486-9ac6-8c0d67481f59",
        "colab": {
          "base_uri": "https://localhost:8080/",
          "height": 312
        }
      },
      "source": [
        "plt.plot(seq_history.history['loss'], label='training loss')\n",
        "plt.plot(seq_history.history['val_loss'], label='testing loss')\n",
        "plt.title('Loss')\n",
        "plt.xlabel('epochs')\n",
        "plt.ylabel('loss')\n",
        "plt.legend()"
      ],
      "execution_count": 0,
      "outputs": [
        {
          "output_type": "execute_result",
          "data": {
            "text/plain": [
              "<matplotlib.legend.Legend at 0x7fbfea5222b0>"
            ]
          },
          "metadata": {
            "tags": []
          },
          "execution_count": 12
        },
        {
          "output_type": "display_data",
          "data": {
            "image/png": "[encoded data removed]",
            "text/plain": [
              "<Figure size 432x288 with 1 Axes>"
            ]
          },
          "metadata": {
            "tags": []
          }
        }
      ]
    },
    {
      "cell_type": "code",
      "metadata": {
        "id": "vbMKPENDsh28",
        "colab_type": "code",
        "outputId": "f30c006b-b981-45a2-c848-bb08aca56ad4",
        "colab": {
          "base_uri": "https://localhost:8080/",
          "height": 312
        }
      },
      "source": [
        "plt.plot(func_history.history['accuracy'], label='training accuracy')\n",
        "plt.plot(func_history.history['val_accuracy'], label='testing accuracy')\n",
        "plt.title('Accuracy')\n",
        "plt.xlabel('epochs')\n",
        "plt.ylabel('accuracy')\n",
        "plt.legend()"
      ],
      "execution_count": 0,
      "outputs": [
        {
          "output_type": "execute_result",
          "data": {
            "text/plain": [
              "<matplotlib.legend.Legend at 0x7fbfea499dd8>"
            ]
          },
          "metadata": {
            "tags": []
          },
          "execution_count": 13
        },
        {
          "output_type": "display_data",
          "data": {
            "image/png": "[encoded data removed]",
            "text/plain": [
              "<Figure size 432x288 with 1 Axes>"
            ]
          },
          "metadata": {
            "tags": []
          }
        }
      ]
    },
    {
      "cell_type": "code",
      "metadata": {
        "id": "1lirm3apsiCa",
        "colab_type": "code",
        "outputId": "67d6ac21-654e-4247-a409-ea916a0cf8c9",
        "colab": {
          "base_uri": "https://localhost:8080/",
          "height": 312
        }
      },
      "source": [
        "plt.plot(func_history.history['loss'], label='training loss')\n",
        "plt.plot(func_history.history['val_loss'], label='testing loss')\n",
        "plt.title('Loss')\n",
        "plt.xlabel('epochs')\n",
        "plt.ylabel('loss')\n",
        "plt.legend()"
      ],
      "execution_count": 0,
      "outputs": [
        {
          "output_type": "execute_result",
          "data": {
            "text/plain": [
              "<matplotlib.legend.Legend at 0x7fbfea47ae10>"
            ]
          },
          "metadata": {
            "tags": []
          },
          "execution_count": 14
        },
        {
          "output_type": "display_data",
          "data": {
            "image/png": "[encoded data removed]",
            "text/plain": [
              "<Figure size 432x288 with 1 Axes>"
            ]
          },
          "metadata": {
            "tags": []
          }
        }
      ]
    }
  ]
}